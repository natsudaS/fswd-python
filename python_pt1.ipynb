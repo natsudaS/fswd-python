{
 "cells": [
  {
   "attachments": {},
   "cell_type": "markdown",
   "metadata": {},
   "source": [
    "# A gentle primer on Python, Part 1\n",
    "\n",
    "## Learning objectives\n",
    "\n",
    "By the end of this notebook, you will know the basic syntax and common design concepts of **Python**, including:\n",
    "+ Operators\n",
    "+ String manipulation\n",
    "+ Data structures\n",
    "+ Control flow\n",
    "+ Functions\n",
    "\n",
    "As a prerequisite, I assume that you have already written software code before, albeit in a different language like Java. Having said that, the notebook content should still be rather beginner-friendly.\n",
    "\n",
    "## 1. Hello, World!\n",
    "\n",
    "We start with a one-line \"Hello, World!\" message to the prompt. Execute this cell:"
   ]
  },
  {
   "cell_type": "code",
   "execution_count": 2,
   "metadata": {},
   "outputs": [
    {
     "name": "stdout",
     "output_type": "stream",
     "text": [
      "Hello, World\n"
     ]
    }
   ],
   "source": [
    "print(\"Hello, World\")"
   ]
  },
  {
   "attachments": {},
   "cell_type": "markdown",
   "metadata": {},
   "source": [
    "\n",
    "This is boring and spectacular at the same time: Boring, since the Python script doesn't do that much. Exciting, since it took just one line of code with one function call to implement an executable example (compare this with [Java](https://introcs.cs.princeton.edu/java/11hello/HelloWorld.java.html)). Note that the line end is not closed with a semicolon `;`.\n",
    "\n",
    "This next example is a bit more interesting:"
   ]
  },
  {
   "cell_type": "code",
   "execution_count": 3,
   "metadata": {},
   "outputs": [
    {
     "name": "stdout",
     "output_type": "stream",
     "text": [
      "Hello, World!\n"
     ]
    }
   ],
   "source": [
    "# If/else variant of \"Hello, World!\"\n",
    "message = \"Hello, World!\"\n",
    "if message:\n",
    "    print(message)\n",
    "else:\n",
    "    print(\"We'll never be here.\") # This string will be lost in space and time"
   ]
  },
  {
   "attachments": {},
   "cell_type": "markdown",
   "metadata": {},
   "source": [
    "+ No `{ }`, i.e. no curly brackets! To increase code readability and reduce errors, Python uses **indentation** to group statements. In practice, you either let the code editor do the work, or indent by hitting the <kbd>Tab</kbd> key. *(Most editors will produce four empty space characters per <kbd>Tab</kbd> by default -- this is a touchy topic [for some devs](https://www.youtube.com/watch?v=SsoOG6ZeyUI)*). Transitioning from Java, this might look confusing and a little bit like magic at first, but you will get the hang of this feature pretty fast.\n",
    "+ **Comments** are started with the `#` sign (aka *\"pound\"*, *\"hash\"*, or *\"number\"* sign). The remainder of the line following the pound sign will be a comment, unless there's an `\"` (double quote) or `'` (single quote) before: both `\"#comment\"` and `'#comment'` are strings, not comments. *(You may use both singe and double quotes to form a string.)* There are no multi-line comments in Python.\n",
    "+ Lastly, you may have noticed that while the variable `message` is recognized as a [`string`](https://docs.python.org/3/library/string.html), you did not need to explicitly specify its data type - Python will infer that during runtime. This behavior is called **dynamic typing**, as opposed to static typing that you might know from Java.\n",
    "  + Still, Python [supports a variant of static typing](https://docs.python.org/3/library/typing.html) if you want to. We will discuss this feature in the second notebook.\n",
    "\n",
    "### 1.1. Exercise\n",
    "\n",
    "This first exercise is very simple: \n",
    "\n",
    "+ Change something in the \"Hello, World!\" example above to force an error message. For example, introduce a typo somewhere in the code.\n",
    "+ Can you make sense of the error message?"
   ]
  },
  {
   "cell_type": "code",
   "execution_count": null,
   "metadata": {},
   "outputs": [],
   "source": [
    "# Write your exercise code here"
   ]
  },
  {
   "attachments": {},
   "cell_type": "markdown",
   "metadata": {},
   "source": [
    "## 2. Operators\n",
    "\n",
    "### 2.1. Arithmetic operators\n",
    "\n",
    "The arithmetic operators in Python are pretty self-explanatory:"
   ]
  },
  {
   "cell_type": "code",
   "execution_count": 1,
   "metadata": {},
   "outputs": [
    {
     "name": "stdout",
     "output_type": "stream",
     "text": [
      "add: 11, float_number: 3.5, int_number: 3, modulo: 1, power: 9\n"
     ]
    }
   ],
   "source": [
    "add = 1 + 5                     # 6\n",
    "add += 5                        # 11\n",
    "float_number = (5 * 6 - 2) / 8  # = 3.5\n",
    "int_number = (5 * 6 - 2) // 8   # = 3\n",
    "modulo = 22 % 7                 # = 1\n",
    "power = 3 ** 2                  # = 9\n",
    "\n",
    "print(\n",
    "    f'add: {add}, '\n",
    "    f'float_number: {float_number}, '\n",
    "    f'int_number: {int_number}, '\n",
    "    f'modulo: {modulo}, '\n",
    "    f'power: {power}'\n",
    ")"
   ]
  },
  {
   "attachments": {},
   "cell_type": "markdown",
   "metadata": {},
   "source": [
    "+ The `//` operator performs a **floor division**, i.e. it rounds down the result to the nearest integer.\n",
    "+ The `%` (**modulo**) operator is commonly overlooked by beginners - but it is [immensely useful](https://stackoverflow.com/questions/2609315/).\n",
    "+ **Exponentiation** is performed with `**`; the more intuitive `^` would perform a [bit-wise XOR](https://wiki.python.org/moin/BitwiseOperators) operation.\n",
    "+ If you combine any arithmetic operator with `=` (the **assignment** operator), that operator will be applied to the variable on the left and the result stored in that variable. For example, `add += 5` is equivalent to `add = add + 5`. This syntax will save you some keystrokes.\n",
    "\n",
    "### 2.2. Operators with English names\n",
    "\n",
    "This category is not an official name from Python, but I find it suitable: **logical operators**, **membership operators** and **identity operators** are written in plain English, so you don't have to remember any weird syntax:"
   ]
  },
  {
   "cell_type": "code",
   "execution_count": null,
   "metadata": {},
   "outputs": [],
   "source": [
    "# Logical operators: and, or, not\n",
    "print((not(1 == 1 and 2 == 3)) or 3 == 3)  # True\n",
    "\n",
    "# Membership operators: in, not in\n",
    "full_name = 'Joe Doe'\n",
    "print('Doe' in full_name)  # True\n",
    "\n",
    "list_var = [1, 2, 3]\n",
    "print(2 in list_var)      # True\n",
    "print(4 not in list_var)  # True\n",
    "\n",
    "dict_var = {\"ID\": 1, \"name\": \"Joe\"}\n",
    "print(\"ID\" in dict_var)    # True\n",
    "print (\"Joe\" in dict_var)  # False\n",
    "\n",
    "# Identity operators: is, is not\n",
    "x, y = 2.0, 2\n",
    "print(x is y)      # False\n",
    "print(x is not y)  # True"
   ]
  },
  {
   "attachments": {},
   "cell_type": "markdown",
   "metadata": {},
   "source": [
    "+ In Java, the equivalent to the logical `and` is `&&`, the equivalent to `or` is `||`.\n",
    "+ The operator to test for equality (i.e., `==`) is the same in Python and Java.\n",
    "+ To test for inequality, either test for equality and then negate the result with `not()`, or use the inequality test operator `!=`. Hence, both `not(1 == 2)` and `1 != 2` evaluate to `True`.\n",
    "+ The [`in`](https://docs.python.org/3/reference/expressions.html#membership-test-operations) operator tests for membership in array-like variables (called **sequences** in Python). This operator is very versatile: you can apply it to strings, lists, dictionaries, and many more *(more on lists and dictionaries later on)*. In most cases, its use is intuitive.\n",
    "+ The [`is`](https://docs.python.org/3/reference/expressions.html#is-not) operator tests for **object identity**, not value identity: `2.0` (a float object) is different to `2` (an integer object).\n",
    "+ I included some [*syntactic sugar*](https://en.wikipedia.org/wiki/Syntactic_sugar): Python lets you assign values to more than one variable in one line - separate both variables and values with a `,` (comma sign), respectively. Sometimes you want to do this for increased readability or if you know a function will return more than one value.\n",
    "\n",
    "> You can't name a variable `and`, `in`, `is`, etc.: Python reserved a few [keywords](https://docs.python.org/3/reference/lexical_analysis.html#keywords). However, variable names are case-sensitive, hence the variable name `aNd` would be okay.\n",
    "> \n",
    "> Since we already discuss variable naming: by convention, Python variables are written in *snake_case*, not *camelCase* as in Java. Many people will argue that separating words by `_` (underscore) is more readable than the camel-case alternative.\n",
    "\n",
    "### 2.3. Exercise\n",
    "\n",
    "We all know that `42` is the [answer to everything](https://groups.google.com/g/alt.fan.douglas-adams/c/595nPukE-Jo/m/koaAJ3tPBtEJ?pli=1):\n",
    "\n",
    "+ Write (1) addition, (2) substraction, (3) multiplication and (4) division operations that all result in the number `42`. Assign these operations to four different variables.\n",
    "+ Evaluate with `==` and `and` operators that the values of these four variables indeed are 42.\n",
    "+ Print the result, which should be `True`.\n",
    "+ Next, evaluate the same thing but this time by using only the  `==` operator.\n",
    "\n",
    "Here is the expected output:\n",
    "\n",
    "```shell\n",
    "True\n",
    "\n",
    "True\n",
    "```"
   ]
  },
  {
   "cell_type": "code",
   "execution_count": null,
   "metadata": {},
   "outputs": [],
   "source": [
    "# Write your exercise code here"
   ]
  },
  {
   "attachments": {},
   "cell_type": "markdown",
   "metadata": {},
   "source": [
    "\n",
    "## 3. String manipulation\n",
    "\n",
    "In a typical Python application, you will manipulate strings a lot. Luckily, Python has pretty good support for this data type. There are three main concepts to remember when working with strings *(my personal selection - Python provides lots of tools for [text processing](https://docs.python.org/3/library/text.html))*.\n",
    "\n",
    "### 3.1. String class methods\n",
    "\n",
    "First, you need to understand that a variable of type `string` (like any variable in Python) is an object (here: an instance of the `string` class), which means that it comes with [built-in string methods](https://docs.python.org/3/library/stdtypes.html#string-methods). For example, you can do the following:"
   ]
  },
  {
   "cell_type": "code",
   "execution_count": null,
   "metadata": {},
   "outputs": [],
   "source": [
    "full_name = 'Joe Doe'\n",
    "\n",
    "first_name, last_name = full_name.split(\" \")\n",
    "print(first_name)  # Joe\n",
    "\n",
    "last_name_index = full_name.index(last_name)\n",
    "print(last_name_index)  # 4\n",
    "\n",
    "print(full_name.lower())  # joe doe"
   ]
  },
  {
   "attachments": {},
   "cell_type": "markdown",
   "metadata": {},
   "source": [
    "> A code editor like Visual Studio Code will give you tool-tips with available methods and attributes - make use of [this feature](https://code.visualstudio.com/docs/editor/intellisense).\n",
    "\n",
    "### 3.2. Sequence operations\n",
    "\n",
    "Second, you should know that a string [behaves like a sequence](https://docs.python.org/3/library/stdtypes.html#common-sequence-operations) (after all, a string is a sequence of characters in a particular order). For instance, you can do this:"
   ]
  },
  {
   "cell_type": "code",
   "execution_count": null,
   "metadata": {},
   "outputs": [],
   "source": [
    "full_name = 'Joe Doe'\n",
    "first_name, last_name = full_name.split(\" \")\n",
    "last_name_index = full_name.index(last_name)\n",
    "\n",
    "# Get length of the string\n",
    "full_name_length = len(full_name)\n",
    "print(full_name_length)  # 7\n",
    "\n",
    "# Get character at index 4 (i.e., the fifth character)\n",
    "print (full_name[4])  # D\n",
    "\n",
    "# Get the last name (function call extended over multiple lines)\n",
    "print(\n",
    "    full_name[\n",
    "        last_name_index :\n",
    "        full_name_length\n",
    "    ]\n",
    ")  # Doe\n",
    "\n",
    "# Get the last name (alternative syntax)\n",
    "print(full_name[last_name_index : ])  # Doe"
   ]
  },
  {
   "attachments": {},
   "cell_type": "markdown",
   "metadata": {},
   "source": [
    "+ `len()` is one of a number of handy [built-in functions](https://docs.python.org/3/library/functions.html#built-in-functions) that can be applied to most data types in Python.\n",
    "+ The `s[i]` operation will return the entry at index position `i` - in our example, the letter `D`.\n",
    "+ The `s[i:j]` operation will return the slice from index position `i` to index position `j`. In our example, we started at the position of the first letter of the last name and stopped at the last position. *(We achieve the same result with `full_name[last_name_index : ]`.)*\n",
    "+ To increase readability, Python lets you break up function calls over multiple lines. You just need to provide indentation to notify Python that a single command extends over multiple lines. The rules are pretty intuitive. *To be clear: this applies universally in Python, not only to this particular use case.*\n",
    "\n",
    "### 3.3. Multi-line strings, value injection at runtime\n",
    "\n",
    "Third, you should know how to (1) extend string literals over multiple lines, and (2) how to inject variable values during runtime. Several approaches are available ([W3Schools](https://www.w3schools.com/python/python_string_formatting.asp) shows a selection) - here is a demonstration of a particularly readable option for both (1) and (2):"
   ]
  },
  {
   "cell_type": "code",
   "execution_count": null,
   "metadata": {},
   "outputs": [],
   "source": [
    "user_id = 10\n",
    "\n",
    "# Variant 1: string on one line\n",
    "sql = f'SELECT * FROM users WHERE id={user_id} ORDER BY name; '\n",
    "print (sql)  # SELECT * FROM users WHERE id=10 ORDER BY name;\n",
    "\n",
    "# Variant 2: string on one line, but multiple ' ' signs\n",
    "sql = 'SELECT * FROM users ' f'WHERE id={user_id} ' 'ORDER BY name;'\n",
    "print (sql)  # SELECT * FROM users WHERE id=10 ORDER BY name;\n",
    "\n",
    "# Variant 3: string extending multiple lines - note the enclosing ( ) signs\n",
    "sql = (\n",
    "    'SELECT * FROM users '\n",
    "    f'WHERE id={user_id} '\n",
    "    'ORDER BY name; '\n",
    ")\n",
    "print (sql)   # SELECT * FROM users WHERE id=10 ORDER BY name;"
   ]
  },
  {
   "attachments": {},
   "cell_type": "markdown",
   "metadata": {},
   "source": [
    "+ Strings between multiple pairs of `' '` sings are combined to a single string.\n",
    "+ To break up the string over multiple lines, enclose it between `( )`\n",
    "+ Use the `f'{variable}'` notation to insert the value of a `variable`\n",
    "\n",
    "### 3.4. Exercise\n",
    "\n",
    "For this next exercise, I want you to do the following:\n",
    "\n",
    "+ Find two quotes from people that inspire you.\n",
    "+ Define two variables, one to hold the `quote` and another to store the `author`.\n",
    "+ Assign the first quote string to `quote`, and the first author to `author`.\n",
    "+ Transform the `quote` string such that the words [start with an uppercase character](https://docs.python.org/3/library/stdtypes.html#str.title).\n",
    "+ Transform the `author` string such that [all characters are uppercase](https://docs.python.org/3/library/stdtypes.html#str.upper).\n",
    "+ Print the `quote` and the `author` in a format like this (including quotation marks): `{AUTHOR} once said: \"{Inspiring Quote}\"`.\n",
    "+ Next, print the second quote and the second author the same way.\n",
    "\n",
    "Here is the expected output format:\n",
    "\n",
    "```shell\n",
    "HAMLET once said: To Be Or Not To Be, That Is The Question.\n",
    "\n",
    "LUKE SKYWALKER once said: May The Force Be With You.\n",
    "```"
   ]
  },
  {
   "cell_type": "code",
   "execution_count": null,
   "metadata": {},
   "outputs": [],
   "source": [
    "# Write your exercise code here"
   ]
  },
  {
   "attachments": {},
   "cell_type": "markdown",
   "metadata": {},
   "source": [
    "## 4. Data structures\n",
    "\n",
    "Python has four built-in **data structures** (also called *compound data types* or *collections*) to group together related values in one variable. These are **list**, **tuple**, **set**, and **dictionary**: \n",
    "\n",
    "| **Data structure** | **Example**    | **Ordered** | **Changeable** | **Allow duplicates** | **Remark**                                          |\n",
    "| ------------------ | --- | ----------- | -------------- | -------------------- | --------------------------------------------------- |\n",
    "| ***List***         | `[1, 5, 9]` | Yes         | Yes            | Yes                  | The most versatile data structure                   |\n",
    "| ***Tuple***        | `('Joe', 'Doe')` | Yes         | **No**         | Yes                  | Cannot be changed after creation                                                    |\n",
    "| ***Set***          | `{'apples', 'oranges'}` | **No**      | (Yes)          | **No**               | Items can be added or removed, but not manipulated  |\n",
    "| ***Dictionary***   | `{'id': 1, 'first_name': 'Joe', 'revenue': 80.5}` | Yes         | Yes            | (No)                 | list of key-value pairs; duplicate keys not allowed |\n",
    "\n",
    "+ \"Ordered\" means that the individual entries can be accessed by index. For example `('Joe', 'Doe')[0]` will return `Joe`, the first entry in the tuple.\n",
    "+ \"Changeable\" means individual entries can be modified, new ones can be added, and existing ones can be removed.\n",
    "+ \"Allow duplicates\" means that the variable may hold the same value more than once. If you try adding a duplicate value to a set, it will simply be discarded.\n",
    "\n",
    "> Actually, Python ships with more than these four data structures. With the exception of [**frozenset**](https://docs.python.org/3/library/stdtypes.html#set-types-set-frozenset) (which *is* a built-in data structure), these are included in the separate [`collections`](https://docs.python.org/3/library/collections.html) module, which is part of the Python standard library.\n",
    "> \n",
    "> For example, the **deque** data structure is optimized for accessing the first and last item in a collection - hence ideal if you need a [stack](https://en.wikipedia.org/wiki/Stack_(abstract_data_type)), a [queue](https://en.wikipedia.org/wiki/Queue_(abstract_data_type)), or a [double-ended queue](https://en.wikipedia.org/wiki/Double-ended_queue).\n",
    "\n",
    "### 4.1. Each data structure has its own *raison d'être*\n",
    " \n",
    "At first, you might be confused why Python makes a point by offering four different data structures. Indeed, you can realize *any* use-case with lists alone, and don't strictly need the others. At the face of it, the following variable assignments may seem interchangeable:"
   ]
  },
  {
   "cell_type": "code",
   "execution_count": null,
   "metadata": {},
   "outputs": [],
   "source": [
    "# List data structure\n",
    "list_var = [1, 'Joe Doe', 80.5]\n",
    "print(list_var)  # [1, 'Joe Doe', 80.5]\n",
    "\n",
    "# Tuple data structure\n",
    "tuple_var = (1, 'Joe Doe', 80.5) # Enclosing parantheses '( )' not required\n",
    "print(tuple_var)  # (1, 'Joe Doe', 80.5)\n",
    "\n",
    "# Set data structure\n",
    "set_var = {1, 'Joe Doe', 80.5}\n",
    "print(set_var)  # {80.5, 1, 'Joe Doe'}\n",
    "\n",
    "# Dictionary data structure\n",
    "dict_var = {'id': 1, 'full_name': 'Joe Doe', 'revenue': 80.5}\n",
    "print(dict_var)  # {'id': 1, 'full_name': 'Joe Doe', 'revenue': 80.5}"
   ]
  },
  {
   "attachments": {},
   "cell_type": "markdown",
   "metadata": {},
   "source": [
    "However, it is more than worth learning to handle all four data structures, since each one has unique qualities. Consider this toy example:"
   ]
  },
  {
   "cell_type": "code",
   "execution_count": null,
   "metadata": {},
   "outputs": [],
   "source": [
    "# Create a list, append an item\n",
    "user_ids = [1, 5, 9]\n",
    "user_ids[0] = 2\n",
    "print(user_ids[0])  # 2\n",
    "\n",
    "# Split a string, store result as a tuple\n",
    "first_last_name = tuple('Joe Doe'.split(\" \"))\n",
    "print(first_last_name[1])  # Doe\n",
    "\n",
    "# Create a set, add another item (set drops any duplicate values)\n",
    "fruit_inventory = {'apples', 'oranges', 'apples'}\n",
    "fruit_inventory.add('oranges')\n",
    "print(fruit_inventory)  # {'apples', 'oranges'}\n",
    "\n",
    "# Create a dictionary, add another key-value pair\n",
    "user = {'id': 1, 'first_name': 'Joe', 'last_name': 'Doe'}\n",
    "user['revenue'] = 80.5\n",
    "print(user)  # {'id': 1, 'first_name': 'Joe', 'last_name': 'Doe', 'revenue': 80.5}\n",
    "print(user.keys())  # ['id', 'first_name', 'last_name', 'revenue']\n",
    "print(user.values())  # [1, 'Joe', 'Doe', 80.5]"
   ]
  },
  {
   "attachments": {},
   "cell_type": "markdown",
   "metadata": {},
   "source": [
    "+ With the **list** `user_ids` we collect IDs that are of interest to us. Since the list is changeable, we could for instance override its first value: `user_ids[0] = 2`, which changes the list to `[2, 5, 9]`.\n",
    "+ Instead of creating two variables, we simply hold first name and last name returned by `full_name.split(' ')` in an ordered, but immutable **tuple** (note that we called `tuple()` to change the output of `split()` into the tuple data structure).\n",
    "+ The **set** we created above holds just `{'apples', 'oranges'}` (in any order, so `{'oranges', 'apples'}` would also be possible). With a set, we can ensure to keep only unique entries and will get rid of duplicate values automatically. In addition, searching for a particular entry performs *much* faster on a set compared to the other data structures. \n",
    "+ Lastly, the values stored in the **dictionary** could have easily be attributes of an object, for which we would have needed to define a class first - much easier to hold structured data this way. *(If you read and write data in the [JSON format](https://www.json.org/json-de.html), you'll find dictionaries to be the perfect match.)*\n",
    "\n",
    "### 4.2. Nesting is allowed\n",
    "\n",
    "You can nest data structures, i.e., you are allowed to provide a data structure as a value entry of another data structure. For example, this is possible:"
   ]
  },
  {
   "cell_type": "code",
   "execution_count": null,
   "metadata": {},
   "outputs": [],
   "source": [
    "user = {\n",
    "    'id': 1,\n",
    "    'name': {'first': 'Joe', 'last': 'Doe'},\n",
    "    'address': {'street': 'Main Ave', 'city': 'Springfield'},\n",
    "    'birthday': (1990, 11, 30)\n",
    "    }\n",
    "\n",
    "print(user['id'])               # 1\n",
    "print(user['name']['first'])    # Joe\n",
    "print(user['address']['city'])  # Springfield\n",
    "print(user['birthday'][0])      # 1990"
   ]
  },
  {
   "attachments": {},
   "cell_type": "markdown",
   "metadata": {},
   "source": [
    "> Showing the numerous possibilities of the built-in data structures goes well beyond the scope of this notebook. To learn more, head over to the [official Python tutorial on data structures](https://docs.python.org/3/tutorial/datastructures.html).\n",
    "\n",
    "### 4.3. Exercise\n",
    "\n",
    "Let's assume you're going to throw a dinner party. To keep track of whom you invited, you naturally write a Python program:\n",
    "\n",
    "+ Make an `invitees` list with at least three people that you want to invite.\n",
    "+ Manually `print()` a short invitation to each invitee.\n",
    "+ The first invitee can't make it, so you you'll invite another one instead. Let `invitees[0]` know you're sorry they can't make it. Overwrite this slot with the new person, and invite this person.\n",
    "+ You want to squeeze in another guest, so you'll [`append()`](https://docs.python.org/3/tutorial/datastructures.html#more-on-lists) your list with this name, and extend the invitation to her.\n",
    "+ Unfortunately, this last invitee can't make it, so you'll `pop()` her name from the list and let her know you're sorry they can't make it.\n",
    "+ Finally, get the number of invitees with `len()`. Print this number, together with the names of all invitees.\n",
    "\n",
    "Here is the expected output format:\n",
    "\n",
    "```shell\n",
    "You're invited, Joe!\n",
    "You're invited, Niki!\n",
    "You're invited, Maxi!\n",
    "\n",
    "Sorry you can't make it, Joe!\n",
    "You're invited, Alex!\n",
    "\n",
    "You're invited, Nora!\n",
    "\n",
    "Sorry you can't make it, Nora!\n",
    "\n",
    "3 guests invited:\n",
    "['Alex', 'Niki', 'Maxi']\n",
    "```"
   ]
  },
  {
   "cell_type": "code",
   "execution_count": null,
   "metadata": {},
   "outputs": [],
   "source": [
    "# Write your exercise code here"
   ]
  },
  {
   "attachments": {},
   "cell_type": "markdown",
   "metadata": {},
   "source": [
    "\n",
    "## 5. Control flow: conditional statements if, else, elif\n",
    "\n",
    "The control flow is the core part of your Python code, since that is the sequence in which the individual steps are executed (or evaluated). The basic control flow elements are:\n",
    "\n",
    "+ Conditional statements if, else, elif *(this section)*\n",
    "+ While loops and for loops *(next section)*\n",
    "\n",
    "> Python is (mostly) an [imperative programming](https://en.wikipedia.org/wiki/Imperative_programming) language, in which the programmer uses control flow to define *how* the program shall *operate*.\n",
    ">\n",
    "> Contrast this to a [declarative programming](https://en.wikipedia.org/wiki/Declarative_programming) language like SQL, in which the program describes *what* the program shall *accomplish*.\n",
    ">\n",
    "> Having said that, Python supports [functional programming](https://docs.python.org/3/howto/functional.html), which some argue is a variant of [declarative programming](https://stackoverflow.com/questions/10925689/functional-programming-vs-declarative-programming-vs-imperative-programming).\n",
    "\n",
    "### 5.1. Structure of conditional statements\n",
    "\n",
    "The conditional statements `if` and `else` work exactly as you would expect. Consider this example which checks for [free ticket eligibility](https://www.bahn.de/angebot/zusatzticket/fahrkarten-kinder):"
   ]
  },
  {
   "cell_type": "code",
   "execution_count": null,
   "metadata": {},
   "outputs": [],
   "source": [
    "FREE_LIMIT = 5\n",
    "CHILD_LIMIT = 14\n",
    "\n",
    "ticket_price = 19.95\n",
    "my_age = 14\n",
    "with_chaperon = True\n",
    "\n",
    "if my_age <= FREE_LIMIT:\n",
    "    ticket_price = 0.0\n",
    "    print('Free ticket: child under 6')\n",
    "elif (my_age <= CHILD_LIMIT\n",
    "        and with_chaperon):\n",
    "    ticket_price = 0.0\n",
    "    print('Free ticket: child under 15 accompanied by chaperon')\n",
    "else:\n",
    "    print(f'Regular ticket price: €{ticket_price}')\n",
    "\n",
    "# Result: 'Free ticket: child under 15 accompanied by chaperon'"
   ]
  },
  {
   "attachments": {},
   "cell_type": "markdown",
   "metadata": {},
   "source": [
    "+ A conditional statement consists of a **header** and a **body**\n",
    "+ The **header** starts with `{if, elif, else}` and ends with a colon `:` \n",
    "+ In-between you define the statement to be evaluated to `True` or `False`\n",
    "+ To extend a conditional statement over multiple lines, you must enclose it with parantheses `( )`, otherwise these are optional.\n",
    "+ If a header evaluates to `True`, the subsequent code block (aka. **body**, sometimes also called \"suite\") will be executed.\n",
    "\n",
    "### 5.2. The elif statement\n",
    "\n",
    "`elif` stands for *\"else if\"*, which saves you many new lines & indentations. Consider the two variants (without and with `elif`, respectively):"
   ]
  },
  {
   "cell_type": "code",
   "execution_count": null,
   "metadata": {},
   "outputs": [],
   "source": [
    "x = 1\n",
    "y = x + 1\n",
    "\n",
    "# Variant 1: not using elif\n",
    "if x == y:\n",
    "    print('x equals y')\n",
    "else:\n",
    "    if x > y:\n",
    "        print('x is larger than y')\n",
    "    else:\n",
    "        print('x is smaller than y')\t\n",
    "# Result: 'x is smaller than y'\n",
    "\n",
    "# Variant 2: using elif\n",
    "if x == y:\n",
    "    print('x equals y')\n",
    "elif x > y:\n",
    "    print('x is larger than y')\n",
    "else:\n",
    "    print('x is smaller than y')\n",
    "# Result: 'x is smaller than y'"
   ]
  },
  {
   "attachments": {},
   "cell_type": "markdown",
   "metadata": {},
   "source": [
    "> You can use `elif` to the same effect that you know from the Java [`switch` / `case`](https://www.w3schools.com/java/java_switch.asp) statement.\n",
    ">\n",
    "> Another alternative to emulate [`switch` / `case`] is the use of [structural pattern matching](https://peps.python.org/pep-0636/#appendix-a): you test an expression (e.g., a variable) against one or more patterns and execute the following code block if there's a match.\n",
    "\n",
    "### 5.3. Truthy and falsy values\n",
    "\n",
    "An `if` (or `elif`) statement header must evaluate to a **boolean value** (`True` or `False`). The statement can be arbitrarily complex (e.g., you may call a function in-between), but in the end the result *must* be either `True` or `False`.\n",
    "\n",
    "Having said that, Python makes this task a lot easier for you, because you can test *any* value for truth, irrespective whether it is of type `bool` or not. **By default**, everything is considered `True` unless [specified otherwise](https://docs.python.org/3/library/stdtypes.html#truth-value-testing). For example, `if 5` evaluates to `True`, whereas `if 0` evaluates to `False`. We could do something like this:"
   ]
  },
  {
   "cell_type": "code",
   "execution_count": null,
   "metadata": {},
   "outputs": [],
   "source": [
    "mistakes = 5\n",
    "\n",
    "# Variant 1: leverage 'truthy / falsy'\n",
    "if mistakes:\n",
    "    print(f'There are {mistakes} mistakes left to fix!')\n",
    "else:\n",
    "    print('All nice and fine!')\n",
    "# Result: 'There are 5 mistakes left to fix!'\n",
    "\n",
    "# Variant 2: explicitly test for truth value\n",
    "if mistakes > 0:\n",
    "    print(f'There are {mistakes} mistakes left to fix!')\n",
    "else:\n",
    "    print('All nice and fine!')\n",
    "# Result: 'There are 5 mistakes left to fix!'"
   ]
  },
  {
   "attachments": {},
   "cell_type": "markdown",
   "metadata": {},
   "source": [
    "This behavior is sometimes called [truthy / falsy value interpretation](https://www.freecodecamp.org/news/truthy-and-falsy-values-in-python/), which is also known in other languages like [JavaScript](https://developer.mozilla.org/en-US/docs/Glossary/Truthy?retiredLocale=de).\n",
    "\n",
    "### 5.4. Exercise\n",
    "\n",
    "At times we might forget whether we're [still kids or already adults](https://www.youtube.com/watch?v=IlV7RhT6zHs). Fortunately, Python comes to the rescue:\n",
    "\n",
    "+ Store your `age` (in years) in a variable.\n",
    "+ Check that `age` is a number larger than `0` by leveraging the truthy / falsy behavior of Python. If no `age` is given or if it's `0`, `print()` an error message.\n",
    "+ After this initial check, write a series of conditional statements that checks `age` and `print()` the resulting category:\n",
    "  + Less than 1 year old: `Your're a baby`\n",
    "  + Less than 3 years old: `You're a toddler`\n",
    "  + Less than 12 years old: `You're a kid`\n",
    "  + Less than 18 years old: `You're a teenager`\n",
    "  + Less than 50 years old: `You're an adult`\n",
    "  + Less than 100 years old: `You're a best-ager`\n",
    "  + 100 years or older: `You're seriously old` \n",
    "\n",
    "Here is the expected output format:\n",
    "\n",
    "```shell\n",
    "You're an adult\n",
    "```"
   ]
  },
  {
   "cell_type": "code",
   "execution_count": null,
   "metadata": {},
   "outputs": [],
   "source": [
    "# Write your exercise code here"
   ]
  },
  {
   "attachments": {},
   "cell_type": "markdown",
   "metadata": {},
   "source": [
    "\n",
    "## 6. Control flow: while loops and for loops\n",
    "\n",
    "### 6.1. Structure of while loops and for loops\n",
    "\n",
    "Let's start with `while` loops: They do [exist in Python](https://www.w3schools.com/python/python_while_loops.asp), and it is completely okay for you to define a `while` loop. However, it is rarely used in our context of web app development, so we'll **skip** `while` loops here.\n",
    "\n",
    "The `for` loop syntax is best compared to the [for-each](https://www.w3schools.com/java/java_foreach_loop.asp) syntax in Java. With the `for` loop, you take **each element** of a sequence and perform some kind of computation on it. Here's an example:"
   ]
  },
  {
   "cell_type": "code",
   "execution_count": null,
   "metadata": {},
   "outputs": [],
   "source": [
    "fruits = ['apple', 'plum', 'orange', 'kiwi', 'pear', 'melon']\n",
    "\n",
    "for fruit in fruits:\n",
    "    print(fruit)  # apple  plum  orange  kiwi  pear  melon"
   ]
  },
  {
   "attachments": {},
   "cell_type": "markdown",
   "metadata": {},
   "source": [
    "+ After the initial `for`, define the **item variable** (which exists just in the `for` loop), here `fruit`.\n",
    "+ The **sequence** to be looped through follows after the `in` keyword. \n",
    "+ The `for` statement header ends with a colon `:`, just like the `if` statement does.\n",
    "+ The subsequent code block is executed until we run out of item variables (in this case, six times)\n",
    "\n",
    "Next, we take a look at two built-in functions that are commonly used together with for loops:\n",
    "\n",
    "+ The `range()` function\n",
    "+ The `enumerate()` function\n",
    "\n",
    "### 6.2. The range() function\n",
    "\n",
    "Let's assume you want to emulate the behavior of a classic [Java for loop](https://www.w3schools.com/java/java_for_loop.asp). You can do that with the built-in [`range()` function](https://docs.python.org/3/library/functions.html#func-range):"
   ]
  },
  {
   "cell_type": "code",
   "execution_count": null,
   "metadata": {},
   "outputs": [],
   "source": [
    "sentence = ['Mi', 'casa', 'es', 'su', 'casa']\n",
    "\n",
    "for i in range(3):\n",
    "    print(sentence[i])  # Mi  casa  es"
   ]
  },
  {
   "attachments": {},
   "cell_type": "markdown",
   "metadata": {},
   "source": [
    "+ `range()` generates a sequence of numbers of specified length. In its default configuration, the function generates ascending numbers, starting with the value `0`. \n",
    "+ The `for` loop iterates through each element of the sequence just created by `range()`.\n",
    "+ We use that number as index to access individual items on the `sentence` list, thus effectively looping through the first three elements of `sentence` in this example.\n",
    "\n",
    "### 6.3. The enumerate() function\n",
    "\n",
    "Also quite useful is the built-in [`enumerate()` function](https://docs.python.org/3/library/functions.html#enumerate). By using it in a `for` loop, you get easy access to the index number of the looped-through sequence:"
   ]
  },
  {
   "cell_type": "code",
   "execution_count": null,
   "metadata": {},
   "outputs": [],
   "source": [
    "sentence = ['Mi', 'casa', 'es', 'su', 'casa']\n",
    "\n",
    "for i, word in enumerate(sentence):\n",
    "    print(f'{i}: {word}')  # 0: Mi  1: casa ..."
   ]
  },
  {
   "attachments": {},
   "cell_type": "markdown",
   "metadata": {},
   "source": [
    "> Note how you can have **more than one** item variables in a `for` loop.\n",
    "\n",
    "Without `enumerate()`, you'll need a helper variable for the same effect:"
   ]
  },
  {
   "cell_type": "code",
   "execution_count": null,
   "metadata": {},
   "outputs": [],
   "source": [
    "sentence = ['Mi', 'casa', 'es', 'su', 'casa']\n",
    "\n",
    "i = 0\n",
    "for word in sentence:\n",
    "    print(f'{i}: {word}')  # 0: Mi  1: casa ...\n",
    "    i += 1"
   ]
  },
  {
   "attachments": {},
   "cell_type": "markdown",
   "metadata": {},
   "source": [
    "### 6.4. Iterating through dictionaries\n",
    "\n",
    "A `for` loop iterates through a dictionary, but differently to what you might expect:"
   ]
  },
  {
   "cell_type": "code",
   "execution_count": null,
   "metadata": {},
   "outputs": [],
   "source": [
    "user = {\n",
    "    'id': 1,\n",
    "    'name': {'first': 'Joe', 'last': 'Doe'},\n",
    "    'address': {'street': 'Main Ave', 'city': 'Springfield'},\n",
    "    'birthday': (1990, 11, 30)\n",
    "    }\n",
    "\n",
    "for item in user:\n",
    "    print(item)  # id  name  address  birthday"
   ]
  },
  {
   "attachments": {},
   "cell_type": "markdown",
   "metadata": {},
   "source": [
    "This loop will print out the **keys**, not the values, i.e., `id name address birthday`. To get to the values, you must access them via the keys like so:"
   ]
  },
  {
   "cell_type": "code",
   "execution_count": null,
   "metadata": {},
   "outputs": [],
   "source": [
    "for key in user:\n",
    "    print(user[key])  # 1  {'first': 'Joe', 'last': 'Doe'} ..."
   ]
  },
  {
   "attachments": {},
   "cell_type": "markdown",
   "metadata": {},
   "source": [
    "Alternatively, you may leverage the [`items()` method](https://www.w3schools.com/python/ref_dictionary_items.asp) of the [`dict` class](https://docs.python.org/3/library/stdtypes.html#dict):"
   ]
  },
  {
   "cell_type": "code",
   "execution_count": null,
   "metadata": {},
   "outputs": [],
   "source": [
    "for key, value in user.items():\n",
    "    print(f'key: {key} .... value: {value}')  # key: id .... value: 1 ..."
   ]
  },
  {
   "attachments": {},
   "cell_type": "markdown",
   "metadata": {},
   "source": [
    "> The loop in the code block above will print out both the keys and values. Of course you may simply disregard the keys and just use the values (or the other way round).\n",
    "\n",
    "### 6.5. Exercise\n",
    "\n",
    "Many applications allow just unique usernames, and your app is no different:\n",
    "\n",
    "+ Create a `users` list of at least three usernames, including the name \"admin\".\n",
    "+ Loop through the list: if you encounter the `user` called \"admin\", `print()` out a special greeting.\n",
    "+ Create a `new_users` list of at least three usernames, one of which is the same as in the `users` list.\n",
    "+ Iterate through `new_users` to check if any of the new usernames is already in use. If not, `append()` them to `users`. If the username is already taken, `print()` out a message.\n",
    "+ Ensure that your comparison is case insensitive: if \"ALEX\" is already in the `users` list, neither \"alex\" nor \"Alex\" (or any other variant) should be accepted.\n",
    "+ You want to introduce user ids, which will allow you to accept duplicate usernames in the future. Change `users` to a list of dictionaries with ascending values for the `id` key, and `name` values taken from the `users` list. \n",
    "+ Finally, get the number of users with `len()`. Print this number, together with the ids and names of all users.\n",
    "\n",
    "Here is the expected output format:\n",
    "\n",
    "```shell\n",
    "Welcome, admin!\n",
    "\n",
    "Sorry, maxi: You'll need to choose a different username.\n",
    "\n",
    "5 registered users:\n",
    "[{'id': 1, 'name': 'Joe'}, {'id': 2, 'name': 'Maxi'}, {'id': 3, 'name': 'admin'} ...]\n",
    "```"
   ]
  },
  {
   "cell_type": "code",
   "execution_count": null,
   "metadata": {},
   "outputs": [],
   "source": [
    "# Write your exercise code here"
   ]
  },
  {
   "attachments": {},
   "cell_type": "markdown",
   "metadata": {},
   "source": [
    "## 7. Functions\n",
    "\n",
    "A function is some code that is executed every time it is called.\n",
    "\n",
    "### 7.1. Function header and function body\n",
    "\n",
    "To define a function in Python, use the `def` keyword. Here is an example:"
   ]
  },
  {
   "cell_type": "code",
   "execution_count": null,
   "metadata": {},
   "outputs": [],
   "source": [
    "def body_mass_index(weight, height, round_digits=1):\n",
    "    bmi = round((weight / height ** 2), round_digits)\n",
    "    return bmi\n",
    "\n",
    "print(body_mass_index(85, 1.85))  # 24.8\n",
    "print(body_mass_index(75, 1.85, 4))  # 21.9138\n",
    "print(body_mass_index(height=1.85, weight=75))  # 21.9"
   ]
  },
  {
   "attachments": {},
   "cell_type": "markdown",
   "metadata": {},
   "source": [
    "A function always starts with the **function header**, which consists of:\n",
    "\n",
    "+ The `def` keyword\n",
    "+ The **function name** (here: `body_mass_index`)\n",
    "+ Zero or more input **arguments** between the mandatory parentheses `( )`\n",
    "+ A colon `:` at the end of the function header\n",
    "\n",
    "> Note how you are allowed to provide a [default value for arguments](https://docs.python.org/3/tutorial/controlflow.html#default-argument-values) - in the example above, `round_digits=1`. Arguments with a default value are **optional** (if no input value is provided, the default will be applied)\n",
    "\n",
    "> Since Python is a **dynamically typed** language, you don't specify the return type, unlike in a **statically typed** language like [Java](https://docs.oracle.com/javase/tutorial/java/javaOO/returnvalue.html).\n",
    ">\n",
    "> To find out the data type of a variable or a value, use the built-in `type()` function. For example, the expression `type(1.0) is float` will evaluate `True`. \n",
    "\n",
    "When calling the function, note how you:\n",
    "\n",
    "+ Don't need to provide input values for any optional argument (if you're happy with the default).\n",
    "+ Are allowed to change input order if you provide both argument name and its value.\n",
    "\n",
    "The input arguments can be distributed over more than one line to improve readability, i.e., the function header is not necessarily just one line. For example, this is valid code:"
   ]
  },
  {
   "cell_type": "code",
   "execution_count": 20,
   "metadata": {},
   "outputs": [],
   "source": [
    "def body_mass_index(\n",
    "    weight,\n",
    "    height,\n",
    "    round_digits=1\n",
    "):\n",
    "    pass  # Nothing implemented yet"
   ]
  },
  {
   "attachments": {},
   "cell_type": "markdown",
   "metadata": {},
   "source": [
    "> You may have noticed that I call the slots in the function definition *arguments* and the data to be passed to the function *values*. Another common terminology is the pair of *parameters* and *arguments*, respectively.\n",
    "> \n",
    "> In other words: `('argument', 'value')` is equivalent to `('parameter', 'argument')`.\n",
    "> \n",
    "> So watch out what is meant by *argument* in a particular document: sometimes it's the [slot](https://docs.python.org/3/tutorial/controlflow.html#default-argument-values), sometimes it's the [data](https://realpython.com/defining-your-own-python-function/#argument-passing).\n",
    "\n",
    "Everything below the function header that is indented is the **function body**: in the example above the calculation of the body mass index, with some [rounding](https://docs.python.org/3/library/functions.html#round) applied.\n",
    "\n",
    "If you want an **empty function body**, simply put in the [`pass` statement](https://docs.python.org/3/tutorial/controlflow.html#pass-statements). This is commonly done to indicate that there's still some implementation work ahead.\n",
    "\n",
    "Often, you want a function to `return` something. A function without a `return` statement also returns something, namely the [`None` object](https://docs.python.org/3/library/constants.html#None).\n",
    "\n",
    "Next, we take a look at some [syntactic sugar](https://en.wikipedia.org/wiki/Syntactic_sugar) related to functions, namely accepting arbitrary arguments with the `*` and `**` notations.\n",
    "\n",
    "### 7.2. Handling arbitrary arguments as function input\n",
    "\n",
    "You will encounter many functions with arguments like these two examples:"
   ]
  },
  {
   "cell_type": "code",
   "execution_count": 21,
   "metadata": {},
   "outputs": [],
   "source": [
    "def my_function(foo, *args):\n",
    "    pass\n",
    "\n",
    "def my_function2(bar, **kwargs):\n",
    "    pass"
   ]
  },
  {
   "attachments": {},
   "cell_type": "markdown",
   "metadata": {},
   "source": [
    "The important operators are the **asterisk characters** (`*` or `**`, respectively). By convention, the argument name following `*` is `args` (for *arguments*), and the argument name following `**` is `kwargs` (for [*keyword arguments*](https://docs.python.org/3/glossary.html#term-argument)).\n",
    "\n",
    "> The `args` and `kwargs` names are really just a convention: the name after the (double-)asterisk operator can be chosen freely. For instance, [`Flask.add_url_rule()`](https://flask.palletsprojects.com/en/2.2.x/api/#flask.Flask.add_url_rule) uses the `**` notation to allow passing on specific option flags. This argument is aptly called `**options` and not `**kwargs`.\n",
    "\n",
    "A function defined with the asterisk or double-asterisk notation accepts **arbitrary input arguments** when being called. Arbitrary can also mean *no input at all*, i.e., both `*args` and `**kwargs` arguments are completely optional.\n",
    "\n",
    "For example, this next example performs multiplication with an arbitrary amount of numbers:"
   ]
  },
  {
   "cell_type": "code",
   "execution_count": null,
   "metadata": {},
   "outputs": [],
   "source": [
    "def multiplication(unit, *args):\n",
    "    if len(args):\n",
    "        result = 1.0\n",
    "    else:\n",
    "        return None\n",
    "    for arg in args:\n",
    "        result *= arg\n",
    "    return f'{result} {unit}^{len(args)}'\n",
    "\n",
    "print(multiplication('m', 2, 2, 3))  # 12.0 m^3\n",
    "print(multiplication('cm', 12, 4))  # 48.0 cm^2\n",
    "print(multiplication('no unit'))  # None"
   ]
  },
  {
   "attachments": {},
   "cell_type": "markdown",
   "metadata": {},
   "source": [
    "A function will become even more flexible if it accepts **keyword arguments**:"
   ]
  },
  {
   "cell_type": "code",
   "execution_count": null,
   "metadata": {},
   "outputs": [],
   "source": [
    "def print_key_value(**kwargs):\n",
    "    print('----')\n",
    "    for key, value in kwargs.items():\n",
    "        print(f'{key}: {value}')\n",
    "    print('****')\n",
    "\n",
    "# Variant 1: call function with 'argument = value' notation\n",
    "print_key_value(\n",
    "    id = 1,\n",
    "    name = {'first': 'Joe', 'last': 'Doe'},\n",
    "    address = {'street': 'Main Ave', 'city': 'Springfield'},\n",
    "    birthday = (1990, 11, 30)\n",
    ")\n",
    "# Result: ----  id: 1  name: { ... ... ****\n",
    "\n",
    "# Variant 2: transform dict to 'argument = value', then give this as input to function\n",
    "user = {\n",
    "    'id': 1,\n",
    "    'name': {'first': 'Joe', 'last': 'Doe'},\n",
    "    'address': {'street': 'Main Ave', 'city': 'Springfield'},\n",
    "    'birthday': (1990, 11, 30)\n",
    "    }\n",
    "print_key_value(**user)\n",
    "# Result: ----  id: 1  name: { ... ... ****"
   ]
  },
  {
   "attachments": {},
   "cell_type": "markdown",
   "metadata": {},
   "source": [
    "+ Both function calls to `print_key_value()` are correct and they return the exact same result.\n",
    "+ In the first function call, we provide arbitrary argument names and their values in the `argument = value` format.\n",
    "+ In the second call, we use the `**` operator to transform the dictionary named `user` to the `argument = value` format first, which is then passed to the function.\n",
    "\n",
    "In practice, you will encounter the *second* use pattern more often than the first one.\n",
    "\n",
    "> You don't *need* to ever actively use the `*`, `**`notations. But you will certainly see many examples using this notation, so it will be useful if you are able to understand such code.\n",
    "\n",
    "### 7.3. Exercise\n",
    "\n",
    "Producing and selling customized t-shirts is [currently](https://web.archive.org/web/20010626190454/http://www.spreadshirt.de/) the hottest digital business model. You want to participate, and it all starts with a simple function:\n",
    "\n",
    "+ Define a function `produce_shirt()` that takes a t-shirt `size` (S, M, ...) and a `message` to be printed on the shirt as arguments. The function should `print()` a summary of both values. Test out this function.\n",
    "+ Extend the function with some error handling:\n",
    "  + The `size` must be a value that matches with a set of allowed values (e.g., `{'S', 'M', 'L', 'XL'}`).\n",
    "  + The `message` can't be longer than `42` characters.\n",
    "+ Call `produce_shirt()` with values that will violate both conditions. The function should `print()` error messages.\n",
    "+ Modify the function such that it will produce an \"M\"-sized t-shirt with the message \"I love the smell of Python in the morning!\" if no other values are supplied. Try this out by invoking `produce_shirt()` without any value.\n",
    "+ Modify the function once more. This time, you allow an arbitrary number of strings to be passed. The function concatenates all strings together (with a whitespace in-between strings) to form the `message`. The `42` characters limit still applies. Then, test the function.\n",
    "\n",
    "Here is the expected output format:\n",
    "\n",
    "```shell\n",
    "Producing a t-shirt size \"M\" with the message \"Don't be evil\" next.\n",
    "\n",
    "T-shirt size \"perfect fit\" does not exist.\n",
    "The supplied message is longer than the allowed 42 characters.\n",
    "\n",
    "Producing a t-shirt size \"M\" with the message \"I love the smell of ...\n",
    "\n",
    "The supplied message is longer than the allowed 42 characters.\n",
    "```"
   ]
  },
  {
   "cell_type": "code",
   "execution_count": null,
   "metadata": {},
   "outputs": [],
   "source": [
    "# Write your exercise code here"
   ]
  },
  {
   "attachments": {},
   "cell_type": "markdown",
   "metadata": {},
   "source": [
    "\n",
    "And with that: congratulations, you've reached the end of this notebook!\n",
    "\n",
    "---\n",
    "\n",
    "## Annex: Online resources to follow-up with\n",
    "\n",
    "We've just scratched the surface, so it's a good idea to follow up with additional online resources. What follows is a curated list of recommended resources.\n",
    "\n",
    "+ [Python learning path from Microsoft](https://learn.microsoft.com/en-us/training/paths/beginner-python/): This learning path is appropriate for beginners that have no problem using Microsoft-supplied tools, most notably Visual Studio Code. While sign-up is not required, it is useful to get access to interactive coding sandboxes. **If you have time for only one follow-up, complete this learning path.**\n",
    "+ [Python intro course by Udacity](https://www.udacity.com/course/introduction-to-python--ud1110): Interactive introductory lessons from Udacity. While free of charge, you will need to provide some personal data to get started. **The Udacity course will go through much the same topics as this notebook, but with more patience.**\n",
    "+ [Official Python tutorial](https://docs.python.org/3/tutorial): The official Python tutorial covers key concepts rather systematically, but not always in an easy-to-follow manner.\n",
    "+ [Python tutorial from W3Schools](https://www.w3schools.com/python/default.asp): Similar to the official Python tutorial, but more accessible since it provides examples that are more to the point - with a slight bias towards topics relevant for data scientists.\n",
    "\n",
    "*Copyright © 2023 Prof. Dr. Alexander Eck. All rights reserved.*\n"
   ]
  }
 ],
 "metadata": {
  "kernelspec": {
   "display_name": "venv",
   "language": "python",
   "name": "python3"
  },
  "language_info": {
   "codemirror_mode": {
    "name": "ipython",
    "version": 3
   },
   "file_extension": ".py",
   "mimetype": "text/x-python",
   "name": "python",
   "nbconvert_exporter": "python",
   "pygments_lexer": "ipython3",
   "version": "3.11.6"
  },
  "orig_nbformat": 4
 },
 "nbformat": 4,
 "nbformat_minor": 2
}
